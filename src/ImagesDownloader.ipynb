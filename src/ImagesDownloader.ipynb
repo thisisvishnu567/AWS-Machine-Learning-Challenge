{
 "cells": [
  {
   "cell_type": "code",
   "execution_count": 1,
   "metadata": {},
   "outputs": [],
   "source": [
    "import os\n",
    "import requests\n",
    "from concurrent.futures import ThreadPoolExecutor, as_completed\n",
    "import pandas as pd"
   ]
  },
  {
   "cell_type": "code",
   "execution_count": 3,
   "metadata": {},
   "outputs": [],
   "source": [
    "def download_image(image_link, entity_name, output_folder, index):\n",
    "    \"\"\"\n",
    "    Downloads an image and saves it in the appropriate folder based on entity_name.\n",
    "    \n",
    "    Parameters:\n",
    "    - image_link: URL of the image to be downloaded.\n",
    "    - entity_name: The entity name to categorize the image.\n",
    "    - output_folder: Path to the main folder where images will be saved.\n",
    "    - index: Index to ensure unique filenames.\n",
    "    \"\"\"\n",
    "    try:\n",
    "        # Create a subfolder for each entity_name if it doesn't exist\n",
    "        entity_folder = os.path.join(output_folder, entity_name)\n",
    "        if not os.path.exists(entity_folder):\n",
    "            os.makedirs(entity_folder)\n",
    "\n",
    "        # Download the image\n",
    "        response = requests.get(image_link)\n",
    "        response.raise_for_status()  # Raise an exception for HTTP errors\n",
    "\n",
    "        # Save the image\n",
    "        image_filename = os.path.join(entity_folder, f\"image_{index}.jpg\")\n",
    "        with open(image_filename, 'wb') as file:\n",
    "            file.write(response.content)\n",
    "    except Exception as e:\n",
    "        print(f\"Error downloading {image_link}: {e}\")"
   ]
  },
  {
   "cell_type": "code",
   "execution_count": 5,
   "metadata": {},
   "outputs": [],
   "source": [
    "def download_images_by_entity(image_links, entity_names, output_folder, max_workers=10):\n",
    "    \"\"\"\n",
    "    Downloads images and categorizes them into separate folders based on entity_name.\n",
    "    \n",
    "    Parameters:\n",
    "    - image_links: List of image URLs.\n",
    "    - entity_names: List of entity names corresponding to each image.\n",
    "    - output_folder: Path to the main folder where images will be saved.\n",
    "    - max_workers: Maximum number of threads to use for downloading images.\n",
    "    \"\"\"\n",
    "    if not os.path.exists(output_folder):\n",
    "        os.makedirs(output_folder)\n",
    "\n",
    "    with ThreadPoolExecutor(max_workers=max_workers) as executor:\n",
    "        futures = []\n",
    "        for index, (image_link, entity_name) in enumerate(zip(image_links, entity_names)):\n",
    "            futures.append(executor.submit(download_image, image_link, entity_name, output_folder, index))\n",
    "        \n",
    "        # Wait for all futures to complete\n",
    "        for future in as_completed(futures):\n",
    "            future.result()  # This will re-raise any exceptions caught during execution\n"
   ]
  },
  {
   "cell_type": "code",
   "execution_count": 7,
   "metadata": {},
   "outputs": [],
   "source": [
    "# Example usage\n",
    "if __name__ == \"__main__\":\n",
    "    DATASET_FOLDER = '../dataset/'\n",
    "    sample_test = pd.read_csv(os.path.join(DATASET_FOLDER, 'sample_test.csv'))\n",
    "    image_links = sample_test['image_link'].tolist()\n",
    "    entity_names = sample_test['entity_name'].tolist()\n",
    "\n",
    "    download_images_by_entity(image_links, entity_names, '../images')"
   ]
  }
 ],
 "metadata": {
  "kernelspec": {
   "display_name": "Python 3",
   "language": "python",
   "name": "python3"
  },
  "language_info": {
   "codemirror_mode": {
    "name": "ipython",
    "version": 3
   },
   "file_extension": ".py",
   "mimetype": "text/x-python",
   "name": "python",
   "nbconvert_exporter": "python",
   "pygments_lexer": "ipython3",
   "version": "3.12.6"
  }
 },
 "nbformat": 4,
 "nbformat_minor": 2
}
